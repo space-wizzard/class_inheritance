{
 "cells": [
  {
   "cell_type": "code",
   "execution_count": 1,
   "id": "fcfe7fd9",
   "metadata": {},
   "outputs": [
    {
     "name": "stdout",
     "output_type": "stream",
     "text": [
      "Student __init__\n",
      "Person __init__\n",
      "Python\n",
      "Hi\n"
     ]
    }
   ],
   "source": [
    "class Person:\n",
    "    def __init__(self):\n",
    "        print('Person __init__')\n",
    "        self.hello='Hi'\n",
    "class Student(Person):\n",
    "    def __init__(self):\n",
    "        print('Student __init__')\n",
    "        super().__init__()\n",
    "        self.school='Python'\n",
    "james=Student()\n",
    "print(james.school)\n",
    "print(james.hello)"
   ]
  },
  {
   "cell_type": "code",
   "execution_count": 2,
   "id": "b1e2a272",
   "metadata": {},
   "outputs": [
    {
     "name": "stdout",
     "output_type": "stream",
     "text": [
      "Person __init__\n",
      "hi\n"
     ]
    }
   ],
   "source": [
    "class Person:\n",
    "    def __init__(self):\n",
    "        print('Person __init__')\n",
    "        self.hello='hi'\n",
    "class Student(Person):\n",
    "    pass\n",
    "james=Student()\n",
    "print(james.hello)"
   ]
  },
  {
   "cell_type": "markdown",
   "id": "3444a72c",
   "metadata": {},
   "source": [
    "### 메서드오버라이딩\n",
    "- 파생 클래스에서 기반 클래스의 메서드를 새로 정의하는 것...기반 클래스의 메서드는 무시된다.\n",
    "- 프로그램에서 같은 이름의 메서드가 여러 개 있을 때 사용한다."
   ]
  },
  {
   "cell_type": "code",
   "execution_count": 9,
   "id": "085aa12c",
   "metadata": {},
   "outputs": [
    {
     "name": "stdout",
     "output_type": "stream",
     "text": [
      "안녕하세요\n",
      "저는 학생입니다.\n"
     ]
    }
   ],
   "source": [
    "class Person:\n",
    "    def greeting(self):\n",
    "        print('안녕하세요')\n",
    "class Student(Person):\n",
    "    def greeting(self):\n",
    "        super().greeting()\n",
    "        print('저는 학생입니다.')\n",
    "james=Student()\n",
    "james.greeting()"
   ]
  },
  {
   "cell_type": "code",
   "execution_count": 15,
   "id": "57457f09",
   "metadata": {},
   "outputs": [
    {
     "name": "stdout",
     "output_type": "stream",
     "text": [
      "rice\n",
      "kimchi\n"
     ]
    }
   ],
   "source": [
    "class Menu:\n",
    "    def Eating(self):\n",
    "        print('kimchi')\n",
    "class Calc(Menu):\n",
    "    def Eating(self):\n",
    "        print('rice')\n",
    "        super().Eating() # 기반 클래스의 메서드를 호출\n",
    "james=Calc()\n",
    "james.Eating()"
   ]
  },
  {
   "cell_type": "code",
   "execution_count": null,
   "id": "111cf2ba",
   "metadata": {},
   "outputs": [],
   "source": []
  },
  {
   "cell_type": "code",
   "execution_count": 22,
   "id": "16e43397",
   "metadata": {},
   "outputs": [
    {
     "name": "stdout",
     "output_type": "stream",
     "text": [
      "공부하기\n",
      "학교 가기\n"
     ]
    }
   ],
   "source": [
    "from abc import *\n",
    "\n",
    "class StudentBase(metaclass=ABCMeta):\n",
    "    @abstractmethod\n",
    "    def study(self):\n",
    "        pass\n",
    "    @abstractmethod\n",
    "    def go_to_school(self):\n",
    "        pass\n",
    "class Student(StudentBase):\n",
    "    def study(self):\n",
    "        print('공부하기')\n",
    "    def go_to_school(self):\n",
    "        print('학교 가기')\n",
    "james=Student()\n",
    "james.study()\n",
    "james.go_to_school()"
   ]
  },
  {
   "cell_type": "code",
   "execution_count": null,
   "id": "17249e9f",
   "metadata": {},
   "outputs": [],
   "source": []
  },
  {
   "cell_type": "code",
   "execution_count": 25,
   "id": "984f0db0",
   "metadata": {},
   "outputs": [
    {
     "name": "stdout",
     "output_type": "stream",
     "text": [
      "[1, 2, 100, 4, 5]\n"
     ]
    }
   ],
   "source": [
    "class AdvancedList(list): # 파생 클래스\n",
    "    def replace(self,old,new):\n",
    "        while old in self:\n",
    "            self[self.index(old)]=new\n",
    "prev=[1,2,3,4,5] # 기반 클래스\n",
    "prev=AdvancedList(prev)\n",
    "prev.replace(3,100)\n",
    "print(prev)"
   ]
  },
  {
   "cell_type": "code",
   "execution_count": 29,
   "id": "7b4eb894",
   "metadata": {},
   "outputs": [
    {
     "ename": "TypeError",
     "evalue": "'builtin_function_or_method' object is not iterable",
     "output_type": "error",
     "traceback": [
      "\u001b[1;31m---------------------------------------------------------------------------\u001b[0m",
      "\u001b[1;31mTypeError\u001b[0m                                 Traceback (most recent call last)",
      "Cell \u001b[1;32mIn[29], line 8\u001b[0m\n\u001b[0;32m      6\u001b[0m k\u001b[38;5;241m=\u001b[39m{\u001b[38;5;124m'\u001b[39m\u001b[38;5;124ma\u001b[39m\u001b[38;5;124m'\u001b[39m:\u001b[38;5;241m1\u001b[39m,\u001b[38;5;124m'\u001b[39m\u001b[38;5;124mb\u001b[39m\u001b[38;5;124m'\u001b[39m:\u001b[38;5;241m2\u001b[39m,\u001b[38;5;124m'\u001b[39m\u001b[38;5;124mc\u001b[39m\u001b[38;5;124m'\u001b[39m:\u001b[38;5;241m3\u001b[39m}\n\u001b[0;32m      7\u001b[0m x\u001b[38;5;241m=\u001b[39mAdvancedList(k)\n\u001b[1;32m----> 8\u001b[0m x\u001b[38;5;241m.\u001b[39mreplace(\u001b[38;5;124m'\u001b[39m\u001b[38;5;124ma\u001b[39m\u001b[38;5;124m'\u001b[39m,\u001b[38;5;241m100\u001b[39m)\n\u001b[0;32m      9\u001b[0m \u001b[38;5;28mprint\u001b[39m(x)\n",
      "Cell \u001b[1;32mIn[29], line 3\u001b[0m, in \u001b[0;36mAdvancedList.replace\u001b[1;34m(self, old, new)\u001b[0m\n\u001b[0;32m      2\u001b[0m \u001b[38;5;28;01mdef\u001b[39;00m \u001b[38;5;21mreplace\u001b[39m(\u001b[38;5;28mself\u001b[39m,old,new):\n\u001b[1;32m----> 3\u001b[0m     \u001b[38;5;28;01mfor\u001b[39;00m key \u001b[38;5;129;01min\u001b[39;00m \u001b[38;5;28mself\u001b[39m\u001b[38;5;241m.\u001b[39mkeys:\n\u001b[0;32m      4\u001b[0m         \u001b[38;5;28;01mif\u001b[39;00m key\u001b[38;5;241m==\u001b[39mold:\n\u001b[0;32m      5\u001b[0m             \u001b[38;5;28mself\u001b[39m\u001b[38;5;241m.\u001b[39mupdate(old\u001b[38;5;241m=\u001b[39mnew)\n",
      "\u001b[1;31mTypeError\u001b[0m: 'builtin_function_or_method' object is not iterable"
     ]
    }
   ],
   "source": [
    "class AdvancedList(dict):\n",
    "    def replace(self,old,new):\n",
    "        while old in self.keys:\n",
    "        self.update(old=new)\n",
    "k={'a':1,'b':2,'c':3}\n",
    "x=AdvancedList(k)\n",
    "x.replace('a',100)\n",
    "print(x)"
   ]
  },
  {
   "cell_type": "code",
   "execution_count": 30,
   "id": "28acf3fc",
   "metadata": {},
   "outputs": [],
   "source": [
    "class BinaryTree:\n",
    "    # 생성자\n",
    "    def __init__(self, root_obj, left_child=None, right_child=None):\n",
    "        self.key = root_obj\n",
    "        self.left_child = left_child\n",
    "        self.right_child = right_child\n",
    "\n",
    "    # 왼쪽 서브트리 추가\n",
    "    def insert_left(self, new_node):\n",
    "        if self.left_child is None:\n",
    "            self.left_child = BinaryTree(new_node)\n",
    "        else:\n",
    "            new_left_child = BinaryTree(new_node, self.left_child, None)\n",
    "            self.left_child = new_left_child\n",
    "\n",
    "    # 오른쪽 서브트리 추가\n",
    "    def insert_right(self, new_node):\n",
    "        if self.right_child == None:\n",
    "            self.right_child = BinaryTree(new_node)\n",
    "        else:\n",
    "            new_right_child = BinaryTree(new_node, None, self.right_child)\n",
    "            self.right_child = new_right_child\n",
    "\n",
    "    # 루트 이름 확인\n",
    "    def get_root_val(self):\n",
    "        return self.key\n",
    "\n",
    "    # 루트 이름 지정\n",
    "    def set_root_val(self, new_obj):\n",
    "        self.key = new_obj\n",
    "\n",
    "    # 왼쪽 서브트리 확인\n",
    "    def get_left_child(self):\n",
    "        return self.left_child\n",
    "\n",
    "    # 오른쪽 서브트리 확인\n",
    "    def get_right_child(self):\n",
    "        return self.right_child             "
   ]
  },
  {
   "cell_type": "code",
   "execution_count": 38,
   "id": "2535520c",
   "metadata": {},
   "outputs": [
    {
     "name": "stdout",
     "output_type": "stream",
     "text": [
      "10\n"
     ]
    }
   ],
   "source": [
    "k=BinaryTree(10)\n",
    "k.insert_left(21)\n",
    "print(k.get_root_val())"
   ]
  },
  {
   "cell_type": "code",
   "execution_count": null,
   "id": "8858893e",
   "metadata": {},
   "outputs": [],
   "source": []
  }
 ],
 "metadata": {
  "kernelspec": {
   "display_name": "Python 3 (ipykernel)",
   "language": "python",
   "name": "python3"
  },
  "language_info": {
   "codemirror_mode": {
    "name": "ipython",
    "version": 3
   },
   "file_extension": ".py",
   "mimetype": "text/x-python",
   "name": "python",
   "nbconvert_exporter": "python",
   "pygments_lexer": "ipython3",
   "version": "3.11.4"
  }
 },
 "nbformat": 4,
 "nbformat_minor": 5
}
